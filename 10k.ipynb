{
  "nbformat": 4,
  "nbformat_minor": 0,
  "metadata": {
    "colab": {
      "name": "10k.ipynb",
      "provenance": [],
      "authorship_tag": "ABX9TyPmJhXH+lT11y2EwEj/KLzT",
      "include_colab_link": true
    },
    "kernelspec": {
      "name": "python3",
      "display_name": "Python 3"
    },
    "language_info": {
      "name": "python"
    }
  },
  "cells": [
    {
      "cell_type": "markdown",
      "metadata": {
        "id": "view-in-github",
        "colab_type": "text"
      },
      "source": [
        "<a href=\"https://colab.research.google.com/github/mkamlesh/python-projects/blob/master/10k.ipynb\" target=\"_parent\"><img src=\"https://colab.research.google.com/assets/colab-badge.svg\" alt=\"Open In Colab\"/></a>"
      ]
    },
    {
      "cell_type": "markdown",
      "metadata": {
        "id": "HQEG0URyVUFu"
      },
      "source": [
        "#1. Reverse The String"
      ]
    },
    {
      "cell_type": "code",
      "metadata": {
        "id": "NogqIinCSCtH"
      },
      "source": [
        "input_str = 'abcdefgh'\n",
        "\n",
        "# Slice string and print it backwards indicated by index -1\n",
        "reversed_str = input_str[::-1]\n",
        "\n",
        "print(reversed_str)"
      ],
      "execution_count": null,
      "outputs": []
    }
  ]
}